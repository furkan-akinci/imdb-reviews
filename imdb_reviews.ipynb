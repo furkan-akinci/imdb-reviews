{
  "nbformat": 4,
  "nbformat_minor": 0,
  "metadata": {
    "colab": {
      "name": "project_3Last.ipynb",
      "provenance": [],
      "collapsed_sections": [],
      "toc_visible": true
    },
    "kernelspec": {
      "display_name": "Python 3",
      "language": "python",
      "name": "python3"
    },
    "language_info": {
      "codemirror_mode": {
        "name": "ipython",
        "version": 3
      },
      "file_extension": ".py",
      "mimetype": "text/x-python",
      "name": "python",
      "nbconvert_exporter": "python",
      "pygments_lexer": "ipython3",
      "version": "3.8.5-final"
    }
  },
  "cells": [
    {
      "cell_type": "code",
      "metadata": {
        "colab_type": "code",
        "id": "4V7aueq2_eZ4",
        "colab": {
          "base_uri": "https://localhost:8080/",
          "height": 122
        },
        "outputId": "a620c01a-2d20-4c95-d003-d67399568c6c"
      },
      "source": [
        "from google.colab import drive\n",
        "drive.mount('/content/drive')"
      ],
      "execution_count": 5,
      "outputs": [
        {
          "output_type": "stream",
          "text": [
            "Go to this URL in a browser: https://accounts.google.com/o/oauth2/auth?client_id=947318989803-6bn6qk8qdgf4n4g3pfee6491hc0brc4i.apps.googleusercontent.com&redirect_uri=urn%3aietf%3awg%3aoauth%3a2.0%3aoob&response_type=code&scope=email%20https%3a%2f%2fwww.googleapis.com%2fauth%2fdocs.test%20https%3a%2f%2fwww.googleapis.com%2fauth%2fdrive%20https%3a%2f%2fwww.googleapis.com%2fauth%2fdrive.photos.readonly%20https%3a%2f%2fwww.googleapis.com%2fauth%2fpeopleapi.readonly\n",
            "\n",
            "Enter your authorization code:\n",
            "··········\n",
            "Mounted at /content/drive\n"
          ],
          "name": "stdout"
        }
      ]
    },
    {
      "cell_type": "markdown",
      "metadata": {
        "colab_type": "text",
        "id": "8a2a8I0d7iNl"
      },
      "source": [
        "## Machine Learning models application to imdb review dataset"
      ]
    },
    {
      "cell_type": "code",
      "metadata": {
        "colab_type": "code",
        "id": "HMnBNmFQ7iNo",
        "colab": {}
      },
      "source": [
        "# # # # # #"
      ],
      "execution_count": 1,
      "outputs": []
    },
    {
      "cell_type": "code",
      "metadata": {
        "colab_type": "code",
        "id": "JFqIbiXi7iNz",
        "colab": {}
      },
      "source": [
        "import numpy as np\n",
        "import pandas as pd"
      ],
      "execution_count": 2,
      "outputs": []
    },
    {
      "cell_type": "code",
      "metadata": {
        "colab_type": "code",
        "id": "tp5K0T557iN7",
        "colab": {
          "base_uri": "https://localhost:8080/",
          "height": 204
        },
        "outputId": "9e8b90b8-117c-4fce-bcac-e9179d821cc9"
      },
      "source": [
        "# load 'movie_data.csv' to pandas dataframe.\n",
        "# Show first 5 reviews\n",
        "df = pd.read_csv(\"/content/drive/My Drive/datasets/movie_data.csv\")\n",
        "df.head()"
      ],
      "execution_count": 3,
      "outputs": [
        {
          "output_type": "execute_result",
          "data": {
            "text/html": [
              "<div>\n",
              "<style scoped>\n",
              "    .dataframe tbody tr th:only-of-type {\n",
              "        vertical-align: middle;\n",
              "    }\n",
              "\n",
              "    .dataframe tbody tr th {\n",
              "        vertical-align: top;\n",
              "    }\n",
              "\n",
              "    .dataframe thead th {\n",
              "        text-align: right;\n",
              "    }\n",
              "</style>\n",
              "<table border=\"1\" class=\"dataframe\">\n",
              "  <thead>\n",
              "    <tr style=\"text-align: right;\">\n",
              "      <th></th>\n",
              "      <th>review</th>\n",
              "      <th>sentiment</th>\n",
              "    </tr>\n",
              "  </thead>\n",
              "  <tbody>\n",
              "    <tr>\n",
              "      <th>0</th>\n",
              "      <td>I went and saw this movie last night after bei...</td>\n",
              "      <td>1</td>\n",
              "    </tr>\n",
              "    <tr>\n",
              "      <th>1</th>\n",
              "      <td>Actor turned director Bill Paxton follows up h...</td>\n",
              "      <td>1</td>\n",
              "    </tr>\n",
              "    <tr>\n",
              "      <th>2</th>\n",
              "      <td>As a recreational golfer with some knowledge o...</td>\n",
              "      <td>1</td>\n",
              "    </tr>\n",
              "    <tr>\n",
              "      <th>3</th>\n",
              "      <td>I saw this film in a sneak preview, and it is ...</td>\n",
              "      <td>1</td>\n",
              "    </tr>\n",
              "    <tr>\n",
              "      <th>4</th>\n",
              "      <td>Bill Paxton has taken the true story of the 19...</td>\n",
              "      <td>1</td>\n",
              "    </tr>\n",
              "  </tbody>\n",
              "</table>\n",
              "</div>"
            ],
            "text/plain": [
              "                                              review  sentiment\n",
              "0  I went and saw this movie last night after bei...          1\n",
              "1  Actor turned director Bill Paxton follows up h...          1\n",
              "2  As a recreational golfer with some knowledge o...          1\n",
              "3  I saw this film in a sneak preview, and it is ...          1\n",
              "4  Bill Paxton has taken the true story of the 19...          1"
            ]
          },
          "metadata": {
            "tags": []
          },
          "execution_count": 3
        }
      ]
    },
    {
      "cell_type": "code",
      "metadata": {
        "colab_type": "code",
        "id": "0HeHgqqw7iOD",
        "colab": {
          "base_uri": "https://localhost:8080/",
          "height": 455
        },
        "outputId": "80b90dc1-6d2f-4aec-ad39-5db34aaed61a"
      },
      "source": [
        "# use nltk library to identify stopwords in english\n",
        "# apply regular expressions to remove everything \n",
        "#(stop words, pantuations, symbols and so on) except necessary words. \n",
        "import re\n",
        "import nltk\n",
        "nltk.download('stopwords')\n",
        "from nltk.corpus import stopwords\n",
        "\n",
        "stop = stopwords.words('english')\n",
        "df['review'] = df['review'].str.lower()\n",
        "\n",
        "def stopwords(text):\n",
        "    return \" \".join([word for word in str(text).split() if word not in stop])\n",
        "\n",
        "df['review'] = df['review'].apply(stopwords)\n",
        "df['review'] = df['review'].str.replace(r'[^\\w\\s]+', '')\n",
        "\n",
        "display(df[:12])"
      ],
      "execution_count": 4,
      "outputs": [
        {
          "output_type": "stream",
          "text": [
            "[nltk_data] Downloading package stopwords to /root/nltk_data...\n",
            "[nltk_data]   Package stopwords is already up-to-date!\n"
          ],
          "name": "stdout"
        },
        {
          "output_type": "display_data",
          "data": {
            "text/html": [
              "<div>\n",
              "<style scoped>\n",
              "    .dataframe tbody tr th:only-of-type {\n",
              "        vertical-align: middle;\n",
              "    }\n",
              "\n",
              "    .dataframe tbody tr th {\n",
              "        vertical-align: top;\n",
              "    }\n",
              "\n",
              "    .dataframe thead th {\n",
              "        text-align: right;\n",
              "    }\n",
              "</style>\n",
              "<table border=\"1\" class=\"dataframe\">\n",
              "  <thead>\n",
              "    <tr style=\"text-align: right;\">\n",
              "      <th></th>\n",
              "      <th>review</th>\n",
              "      <th>sentiment</th>\n",
              "    </tr>\n",
              "  </thead>\n",
              "  <tbody>\n",
              "    <tr>\n",
              "      <th>0</th>\n",
              "      <td>went saw movie last night coaxed friends mine ...</td>\n",
              "      <td>1</td>\n",
              "    </tr>\n",
              "    <tr>\n",
              "      <th>1</th>\n",
              "      <td>actor turned director bill paxton follows prom...</td>\n",
              "      <td>1</td>\n",
              "    </tr>\n",
              "    <tr>\n",
              "      <th>2</th>\n",
              "      <td>recreational golfer knowledge sports history p...</td>\n",
              "      <td>1</td>\n",
              "    </tr>\n",
              "    <tr>\n",
              "      <th>3</th>\n",
              "      <td>saw film sneak preview delightful cinematograp...</td>\n",
              "      <td>1</td>\n",
              "    </tr>\n",
              "    <tr>\n",
              "      <th>4</th>\n",
              "      <td>bill paxton taken true story 1913 us golf open...</td>\n",
              "      <td>1</td>\n",
              "    </tr>\n",
              "    <tr>\n",
              "      <th>5</th>\n",
              "      <td>saw film september 1st 2005 indianapolis one j...</td>\n",
              "      <td>1</td>\n",
              "    </tr>\n",
              "    <tr>\n",
              "      <th>6</th>\n",
              "      <td>maybe im reading much wonder much hand hongshe...</td>\n",
              "      <td>1</td>\n",
              "    </tr>\n",
              "    <tr>\n",
              "      <th>7</th>\n",
              "      <td>felt film many good qualities cinematography c...</td>\n",
              "      <td>1</td>\n",
              "    </tr>\n",
              "    <tr>\n",
              "      <th>8</th>\n",
              "      <td>movie amazing fact real people portray real li...</td>\n",
              "      <td>1</td>\n",
              "    </tr>\n",
              "    <tr>\n",
              "      <th>9</th>\n",
              "      <td>quitting may much exiting preordained identity...</td>\n",
              "      <td>1</td>\n",
              "    </tr>\n",
              "    <tr>\n",
              "      <th>10</th>\n",
              "      <td>loved movie beginning endi musician let drugs ...</td>\n",
              "      <td>1</td>\n",
              "    </tr>\n",
              "    <tr>\n",
              "      <th>11</th>\n",
              "      <td>fortunate attend london premier film fan briti...</td>\n",
              "      <td>1</td>\n",
              "    </tr>\n",
              "  </tbody>\n",
              "</table>\n",
              "</div>"
            ],
            "text/plain": [
              "                                               review  sentiment\n",
              "0   went saw movie last night coaxed friends mine ...          1\n",
              "1   actor turned director bill paxton follows prom...          1\n",
              "2   recreational golfer knowledge sports history p...          1\n",
              "3   saw film sneak preview delightful cinematograp...          1\n",
              "4   bill paxton taken true story 1913 us golf open...          1\n",
              "5   saw film september 1st 2005 indianapolis one j...          1\n",
              "6   maybe im reading much wonder much hand hongshe...          1\n",
              "7   felt film many good qualities cinematography c...          1\n",
              "8   movie amazing fact real people portray real li...          1\n",
              "9   quitting may much exiting preordained identity...          1\n",
              "10  loved movie beginning endi musician let drugs ...          1\n",
              "11  fortunate attend london premier film fan briti...          1"
            ]
          },
          "metadata": {
            "tags": []
          }
        }
      ]
    },
    {
      "cell_type": "code",
      "metadata": {
        "colab_type": "code",
        "id": "nstosdGs7iOM",
        "tags": [],
        "colab": {
          "base_uri": "https://localhost:8080/",
          "height": 102
        },
        "outputId": "dc350b53-1dab-43a9-ba84-6c60ebde74bf"
      },
      "source": [
        "# Show the reviews to be sure that you are going in the right direction\n",
        "des = df['review'].describe()\n",
        "des\n"
      ],
      "execution_count": 5,
      "outputs": [
        {
          "output_type": "execute_result",
          "data": {
            "text/plain": [
              "count                                                 50000\n",
              "unique                                                49579\n",
              "top       loved todays show variety solely cooking which...\n",
              "freq                                                      5\n",
              "Name: review, dtype: object"
            ]
          },
          "metadata": {
            "tags": []
          },
          "execution_count": 5
        }
      ]
    },
    {
      "cell_type": "code",
      "metadata": {
        "colab_type": "code",
        "id": "_unYL1A37iOU",
        "colab": {
          "base_uri": "https://localhost:8080/",
          "height": 421
        },
        "outputId": "ad1db8d7-8c0c-4cf0-d57a-3b7673039bc5"
      },
      "source": [
        "# Find the word counts in the reviews\n",
        "# remove the words that appears less than 10 times in the reviews\n",
        "# they do not help us for the classification.\n",
        "from collections import Counter\n",
        "from itertools import chain\n",
        "\n",
        "v = df['review'].str.split().tolist()\n",
        "c = Counter(chain.from_iterable(v))\n",
        "df['review'] = [' '.join([j for j in i if c[j] > 9]) for i in v]\n",
        "display(df[:12])\n",
        "#display(c)"
      ],
      "execution_count": 6,
      "outputs": [
        {
          "output_type": "display_data",
          "data": {
            "text/html": [
              "<div>\n",
              "<style scoped>\n",
              "    .dataframe tbody tr th:only-of-type {\n",
              "        vertical-align: middle;\n",
              "    }\n",
              "\n",
              "    .dataframe tbody tr th {\n",
              "        vertical-align: top;\n",
              "    }\n",
              "\n",
              "    .dataframe thead th {\n",
              "        text-align: right;\n",
              "    }\n",
              "</style>\n",
              "<table border=\"1\" class=\"dataframe\">\n",
              "  <thead>\n",
              "    <tr style=\"text-align: right;\">\n",
              "      <th></th>\n",
              "      <th>review</th>\n",
              "      <th>sentiment</th>\n",
              "    </tr>\n",
              "  </thead>\n",
              "  <tbody>\n",
              "    <tr>\n",
              "      <th>0</th>\n",
              "      <td>went saw movie last night friends mine ill adm...</td>\n",
              "      <td>1</td>\n",
              "    </tr>\n",
              "    <tr>\n",
              "      <th>1</th>\n",
              "      <td>actor turned director bill paxton follows prom...</td>\n",
              "      <td>1</td>\n",
              "    </tr>\n",
              "    <tr>\n",
              "      <th>2</th>\n",
              "      <td>recreational knowledge sports history pleased ...</td>\n",
              "      <td>1</td>\n",
              "    </tr>\n",
              "    <tr>\n",
              "      <th>3</th>\n",
              "      <td>saw film sneak preview delightful cinematograp...</td>\n",
              "      <td>1</td>\n",
              "    </tr>\n",
              "    <tr>\n",
              "      <th>4</th>\n",
              "      <td>bill paxton taken true story 1913 us golf open...</td>\n",
              "      <td>1</td>\n",
              "    </tr>\n",
              "    <tr>\n",
              "      <th>5</th>\n",
              "      <td>saw film september 1st 2005 one judges heartla...</td>\n",
              "      <td>1</td>\n",
              "    </tr>\n",
              "    <tr>\n",
              "      <th>6</th>\n",
              "      <td>maybe im reading much wonder much hand develop...</td>\n",
              "      <td>1</td>\n",
              "    </tr>\n",
              "    <tr>\n",
              "      <th>7</th>\n",
              "      <td>felt film many good qualities cinematography c...</td>\n",
              "      <td>1</td>\n",
              "    </tr>\n",
              "    <tr>\n",
              "      <th>8</th>\n",
              "      <td>movie amazing fact real people portray real li...</td>\n",
              "      <td>1</td>\n",
              "    </tr>\n",
              "    <tr>\n",
              "      <th>9</th>\n",
              "      <td>quitting may much exiting identity drug withdr...</td>\n",
              "      <td>1</td>\n",
              "    </tr>\n",
              "    <tr>\n",
              "      <th>10</th>\n",
              "      <td>loved movie beginning endi musician let drugs ...</td>\n",
              "      <td>1</td>\n",
              "    </tr>\n",
              "    <tr>\n",
              "      <th>11</th>\n",
              "      <td>fortunate attend london premier film fan briti...</td>\n",
              "      <td>1</td>\n",
              "    </tr>\n",
              "  </tbody>\n",
              "</table>\n",
              "</div>"
            ],
            "text/plain": [
              "                                               review  sentiment\n",
              "0   went saw movie last night friends mine ill adm...          1\n",
              "1   actor turned director bill paxton follows prom...          1\n",
              "2   recreational knowledge sports history pleased ...          1\n",
              "3   saw film sneak preview delightful cinematograp...          1\n",
              "4   bill paxton taken true story 1913 us golf open...          1\n",
              "5   saw film september 1st 2005 one judges heartla...          1\n",
              "6   maybe im reading much wonder much hand develop...          1\n",
              "7   felt film many good qualities cinematography c...          1\n",
              "8   movie amazing fact real people portray real li...          1\n",
              "9   quitting may much exiting identity drug withdr...          1\n",
              "10  loved movie beginning endi musician let drugs ...          1\n",
              "11  fortunate attend london premier film fan briti...          1"
            ]
          },
          "metadata": {
            "tags": []
          }
        }
      ]
    },
    {
      "cell_type": "code",
      "metadata": {
        "colab_type": "code",
        "id": "cwn92bsS7iOv",
        "tags": [],
        "colab": {}
      },
      "source": [
        "# split the dataset into  train and test datasets \n",
        "# train dataset will be %80 and test set will be %20\n",
        "from sklearn import model_selection, preprocessing, feature_extraction, linear_model, naive_bayes\n",
        "train_x, test_x, train_y, test_y = model_selection.train_test_split(df['review'], df['sentiment'], test_size=0.2, random_state=1)\n",
        "\n"
      ],
      "execution_count": 7,
      "outputs": []
    },
    {
      "cell_type": "code",
      "metadata": {
        "colab_type": "code",
        "id": "eBrYTYCS7iO2",
        "tags": [],
        "colab": {}
      },
      "source": [
        "# create input(X) and output (y) vectors for train and test datasets\n",
        "from sklearn.feature_extraction.text import CountVectorizer, TfidfVectorizer\n",
        "vectorizer = CountVectorizer()\n",
        "encoder = preprocessing.LabelEncoder()\n",
        "\n",
        "vectorizer.fit(train_x)\n",
        "\n",
        "train_xCount = vectorizer.transform(train_x)\n",
        "test_xCount = vectorizer.transform(test_x)\n",
        "train_y = encoder.fit_transform(train_y)\n",
        "test_y = encoder.fit_transform(test_y)\n",
        "\n"
      ],
      "execution_count": 8,
      "outputs": []
    },
    {
      "cell_type": "code",
      "metadata": {
        "colab_type": "code",
        "id": "C4HBHlk1GgMZ",
        "colab": {
          "base_uri": "https://localhost:8080/",
          "height": 34
        },
        "outputId": "a2cf70af-674d-499d-86db-97a09c951fb6"
      },
      "source": [
        "print(train_y.shape)"
      ],
      "execution_count": 13,
      "outputs": [
        {
          "output_type": "stream",
          "text": [
            "(40000,)\n"
          ],
          "name": "stdout"
        }
      ]
    },
    {
      "cell_type": "code",
      "metadata": {
        "colab_type": "code",
        "id": "OQuOTSs9HEQS",
        "colab": {
          "base_uri": "https://localhost:8080/",
          "height": 34
        },
        "outputId": "57634396-2cea-496e-9391-4776b414cee7"
      },
      "source": [
        "test_y[0:5]"
      ],
      "execution_count": 14,
      "outputs": [
        {
          "output_type": "execute_result",
          "data": {
            "text/plain": [
              "array([1, 1, 1, 0, 1])"
            ]
          },
          "metadata": {
            "tags": []
          },
          "execution_count": 14
        }
      ]
    },
    {
      "cell_type": "code",
      "metadata": {
        "colab_type": "code",
        "id": "z2Z197vj7iO9",
        "colab": {
          "base_uri": "https://localhost:8080/",
          "height": 34
        },
        "outputId": "c79bd78b-9373-4aec-c40f-d0b8c3ca26bf"
      },
      "source": [
        "wordVector = TfidfVectorizer()\n",
        "wordVector.fit(train_x)\n",
        "train_xWord = wordVector.transform(train_x).astype('float32')\n",
        "test_xWord = wordVector.transform(test_x).astype('float32')\n",
        "wordVector.get_feature_names()[0:5]\n"
      ],
      "execution_count": 9,
      "outputs": [
        {
          "output_type": "execute_result",
          "data": {
            "text/plain": [
              "['007', '00s', '01', '010', '05']"
            ]
          },
          "metadata": {
            "tags": []
          },
          "execution_count": 9
        }
      ]
    },
    {
      "cell_type": "code",
      "metadata": {
        "colab_type": "code",
        "id": "UKeAFH6-7iPE",
        "colab": {}
      },
      "source": [
        "train_xWord = train_xWord.toarray()\n",
        "#np.save('train_xWord.npy', train_xWord)"
      ],
      "execution_count": 10,
      "outputs": []
    },
    {
      "cell_type": "code",
      "metadata": {
        "colab_type": "code",
        "id": "9YYVcH1HIyAT",
        "colab": {}
      },
      "source": [
        "test_xWord = test_xWord.toarray()"
      ],
      "execution_count": 11,
      "outputs": []
    },
    {
      "cell_type": "code",
      "metadata": {
        "colab_type": "code",
        "id": "wjZbRQE57iPM",
        "tags": [],
        "colab": {
          "base_uri": "https://localhost:8080/",
          "height": 323
        },
        "outputId": "8ab7bcb4-d127-477d-9239-c49ae8d57840"
      },
      "source": [
        "# show the dimensions and sample data from train and test datasets \n",
        "print(train_x.shape)\n",
        "print(train_y.shape)\n",
        "print(test_x.shape)\n",
        "print(test_y.shape)\n",
        "\n",
        "print(train_x[:5])\n",
        "print(train_y[:5])\n",
        "print(test_x[:5])\n",
        "print(test_y[:5])"
      ],
      "execution_count": 18,
      "outputs": [
        {
          "output_type": "stream",
          "text": [
            "(40000,)\n",
            "(40000,)\n",
            "(10000,)\n",
            "(10000,)\n",
            "18165    dr lucio fulci lucio fulci director gory horro...\n",
            "36059    lot crap coming hollywood br a friend sends mo...\n",
            "13242    one awaited moviei thought himesh bit acting a...\n",
            "32985    another exquisite taste superhero movie end he...\n",
            "41133    iberia nice see tv see silver screen lot dance...\n",
            "Name: review, dtype: object\n",
            "[0 1 0 1 0]\n",
            "26247    started watching series cable idea addictive w...\n",
            "35067    steve biko black activist tried resist white m...\n",
            "34590    short comment flick go pick up chances going p...\n",
            "16668    serious horror fan get certain marketing ploys...\n",
            "12196    robert cummings laraine day jean muir star and...\n",
            "Name: review, dtype: object\n",
            "[1 1 1 0 1]\n"
          ],
          "name": "stdout"
        }
      ]
    },
    {
      "cell_type": "code",
      "metadata": {
        "colab_type": "code",
        "id": "3lDP0KEH7iPT",
        "colab": {
          "base_uri": "https://localhost:8080/",
          "height": 391
        },
        "outputId": "58dd57cc-eb11-4cbe-d5d2-11e13e4870da"
      },
      "source": [
        "# create Neural Network model that may contain one or more hidden layers\n",
        "# train the model and print out accuracy and loss\n",
        "# predict first 5 reviews of test datasets\n",
        "# compare these predictions with the actual labels\n",
        "\n",
        "import tensorflow as tf\n",
        "from tensorflow.keras.datasets import mnist\n",
        "from tensorflow.keras.models import Sequential\n",
        "from tensorflow.keras.layers import Dense, Dropout, Flatten\n",
        "\n",
        "train_y2 = tf.keras.utils.to_categorical(train_y, num_classes=2)\n",
        "test_y2 = tf.keras.utils.to_categorical(test_y, num_classes=2)\n",
        "batch_size = 256\n",
        "epochs = 10\n",
        "num_classes = 2\n",
        "\n",
        "model = Sequential()\n",
        "model.add(Flatten())\n",
        "model.add(Dense(128, activation='relu'))\n",
        "model.add(Dense(num_classes, activation='softmax'))\n",
        "\n",
        "model.compile(loss=tf.keras.losses.categorical_crossentropy,\n",
        "              optimizer=tf.keras.optimizers.Adam(),\n",
        "              metrics=['accuracy'])\n",
        "\n",
        "model.fit(train_xWord, train_y2,\n",
        "          batch_size=batch_size,\n",
        "          epochs=epochs,\n",
        "          verbose=1,\n",
        "          validation_data=(test_xWord, test_y2))\n",
        "score = model.evaluate(test_xWord, test_y2, verbose=0)\n",
        "print('Test loss:', score[0])\n",
        "print('Test accuracy:', score[1])\n"
      ],
      "execution_count": 42,
      "outputs": [
        {
          "output_type": "stream",
          "text": [
            "Epoch 1/10\n",
            "157/157 [==============================] - 17s 107ms/step - loss: 0.3842 - accuracy: 0.8630 - val_loss: 0.2539 - val_accuracy: 0.8979\n",
            "Epoch 2/10\n",
            "157/157 [==============================] - 17s 106ms/step - loss: 0.1636 - accuracy: 0.9433 - val_loss: 0.2442 - val_accuracy: 0.8999\n",
            "Epoch 3/10\n",
            "157/157 [==============================] - 17s 108ms/step - loss: 0.1001 - accuracy: 0.9706 - val_loss: 0.2695 - val_accuracy: 0.8942\n",
            "Epoch 4/10\n",
            "157/157 [==============================] - 17s 108ms/step - loss: 0.0622 - accuracy: 0.9854 - val_loss: 0.3020 - val_accuracy: 0.8902\n",
            "Epoch 5/10\n",
            "157/157 [==============================] - 17s 106ms/step - loss: 0.0374 - accuracy: 0.9937 - val_loss: 0.3413 - val_accuracy: 0.8873\n",
            "Epoch 6/10\n",
            "157/157 [==============================] - 17s 109ms/step - loss: 0.0221 - accuracy: 0.9977 - val_loss: 0.3737 - val_accuracy: 0.8848\n",
            "Epoch 7/10\n",
            "157/157 [==============================] - 17s 106ms/step - loss: 0.0134 - accuracy: 0.9992 - val_loss: 0.4038 - val_accuracy: 0.8847\n",
            "Epoch 8/10\n",
            "157/157 [==============================] - 17s 106ms/step - loss: 0.0084 - accuracy: 0.9998 - val_loss: 0.4333 - val_accuracy: 0.8831\n",
            "Epoch 9/10\n",
            "157/157 [==============================] - 17s 106ms/step - loss: 0.0057 - accuracy: 0.9999 - val_loss: 0.4578 - val_accuracy: 0.8827\n",
            "Epoch 10/10\n",
            "157/157 [==============================] - 17s 106ms/step - loss: 0.0041 - accuracy: 0.9999 - val_loss: 0.4796 - val_accuracy: 0.8822\n",
            "Test loss: 0.47957924008369446\n",
            "Test accuracy: 0.8822000026702881\n"
          ],
          "name": "stdout"
        }
      ]
    },
    {
      "cell_type": "code",
      "metadata": {
        "colab_type": "code",
        "id": "KP1rvivUTCM4",
        "colab": {
          "base_uri": "https://localhost:8080/",
          "height": 51
        },
        "outputId": "fcab7c76-79dd-4138-88b0-ded9680d370d"
      },
      "source": [
        "actualFive = df['sentiment'][0:5]\n",
        "firstFive1 = df['review'][0:5]\n",
        "wordVector.fit(train_x)\n",
        "firstFive1 = wordVector.transform(firstFive1).astype('float32')\n",
        "firstFive1 = firstFive1.toarray()\n",
        "\n",
        "print(\"Actual values    : \",np.argmax(test_y2[0:5,:], axis=1))\n",
        "print(\"Predicted values : \",np.argmax(model.predict(test_xWord[0:5,:]), axis=1))"
      ],
      "execution_count": 34,
      "outputs": [
        {
          "output_type": "stream",
          "text": [
            "Actual values    :  [1 1 1 0 1]\n",
            "Predicted values :  [1 1 1 0 1]\n"
          ],
          "name": "stdout"
        }
      ]
    },
    {
      "cell_type": "code",
      "metadata": {
        "colab_type": "code",
        "id": "5BKHbeGe7iPa",
        "colab": {
          "base_uri": "https://localhost:8080/",
          "height": 34
        },
        "outputId": "d8ff95ee-f77d-43f2-e0a8-6d6038ab3f3c"
      },
      "source": [
        "# classification using sklearn.linear_model.LogisticRegression module\n",
        "# train the model and print out accuracy and loss\n",
        "# predict first 5 reviews of test datasets\n",
        "# compare these preditions with the actual labels\n",
        "\n",
        "logReg = linear_model.LogisticRegression(max_iter = 40000)\n",
        "logRegModel = logReg.fit(train_xCount, train_y)\n",
        "\n",
        "accuracyLR = logReg.score(test_xCount, test_y)\n",
        "print(\"Accuracy: \",accuracyLR)"
      ],
      "execution_count": 12,
      "outputs": [
        {
          "output_type": "stream",
          "text": [
            "Accuracy:  0.8835\n"
          ],
          "name": "stdout"
        }
      ]
    },
    {
      "cell_type": "code",
      "metadata": {
        "colab_type": "code",
        "id": "b_3J3l1CTrsZ",
        "colab": {
          "base_uri": "https://localhost:8080/",
          "height": 51
        },
        "outputId": "eeae09aa-72ef-46d1-8d80-693801226a71"
      },
      "source": [
        "print(\"Actual values    : \",test_y[0:5])\n",
        "print(\"Predicted values : \",logRegModel.predict(test_xCount[0:5]))"
      ],
      "execution_count": 30,
      "outputs": [
        {
          "output_type": "stream",
          "text": [
            "Actual values    :  [1 1 1 0 1]\n",
            "Predicted values :  [1 1 1 0 0]\n"
          ],
          "name": "stdout"
        }
      ]
    },
    {
      "cell_type": "code",
      "metadata": {
        "colab_type": "code",
        "id": "nsAwgIPm7iPs",
        "colab": {
          "base_uri": "https://localhost:8080/",
          "height": 34
        },
        "outputId": "801aa08b-b7ee-4879-91bd-57c5cea0af3d"
      },
      "source": [
        "# classification using sklearn.naive_bayes.GaussianNB\n",
        "# train the model and print out accuracy and loss\n",
        "# predict first 5 reviews of test datasets\n",
        "# compare these preditions with the actual labels\n",
        "from sklearn.naive_bayes import GaussianNB\n",
        "gnb = GaussianNB()\n",
        "gnb.fit(train_xWord, train_y)\n",
        "\n",
        "#Predict the response for test dataset\n",
        "y_pred = gnb.predict(test_xWord)\n",
        "#Import scikit-learn metrics module for accuracy calculation\n",
        "from sklearn import metrics\n",
        "\n",
        "accuracyNB = metrics.accuracy_score(test_y, y_pred)\n",
        "print(\"Accuracy:\",accuracyNB)\n",
        "\n"
      ],
      "execution_count": 32,
      "outputs": [
        {
          "output_type": "stream",
          "text": [
            "Accuracy: 0.7225\n"
          ],
          "name": "stdout"
        }
      ]
    },
    {
      "cell_type": "code",
      "metadata": {
        "colab_type": "code",
        "id": "aZOOoCziTwk8",
        "colab": {
          "base_uri": "https://localhost:8080/",
          "height": 51
        },
        "outputId": "e3d98e81-955b-4af4-96ee-73bd6c17cebf"
      },
      "source": [
        "print(\"Actual values    : \",test_y[0:5])\n",
        "print(\"Predicted values : \",gnb.predict(test_xWord[0:5,:]))"
      ],
      "execution_count": 39,
      "outputs": [
        {
          "output_type": "stream",
          "text": [
            "Actual values    :  [1 1 1 0 1]\n",
            "Predicted values :  [1 1 1 1 1]\n"
          ],
          "name": "stdout"
        }
      ]
    },
    {
      "cell_type": "code",
      "metadata": {
        "colab_type": "code",
        "id": "zFCH4BC07iP0",
        "colab": {},
        "outputId": "79382430-fa77-40bd-a5dc-3509ede1d24a"
      },
      "source": [
        "# use sklearn.decomposition.PCA to reduce the dimensions of input(X) \n",
        "from sklearn.decomposition import PCA\n",
        "#xx = np.load('train_xWord.npy')\n",
        "pca = PCA(n_components = 100)\n",
        "fit = pca.fit_transform(train_xWord)\n",
        "fitTest = pca.fit_transform(test_xWord)\n",
        "\n",
        "print('Original number of features:', train_xWord.shape[1])\n",
        "print('Reduced number of features:', fit.shape[1])\n"
      ],
      "execution_count": null,
      "outputs": [
        {
          "output_type": "stream",
          "text": [
            "Original number of features: 30714\n",
            "Reduced number of features: 100\n"
          ],
          "name": "stdout"
        }
      ]
    },
    {
      "cell_type": "code",
      "metadata": {
        "colab_type": "code",
        "id": "4OyKX066-xcS",
        "colab": {}
      },
      "source": [
        "np.save('reducedX.npy', fit)\n",
        "np.save('reducedXtest.npy', fit)"
      ],
      "execution_count": null,
      "outputs": []
    },
    {
      "cell_type": "code",
      "metadata": {
        "colab_type": "code",
        "id": "zOuFTeaC7iP7",
        "colab": {
          "base_uri": "https://localhost:8080/",
          "height": 232
        },
        "outputId": "cb52259b-a214-4e18-b020-22711cba6b81"
      },
      "source": [
        "# After having less dimensional input, KNN application\n",
        "# check whether KNN provides reasonable performance\n",
        "from sklearn.decomposition import PCA\n",
        "from sklearn.neighbors import KNeighborsClassifier\n",
        "#fit = np.load('/content/drive/My Drive/datasets/reducedX.npy')\n",
        "#fitTest = np.load('/content/drive/My Drive/datasets/reducedXtest.npy')\n",
        "knn = KNeighborsClassifier(n_neighbors = 3)\n",
        "knn.fit(fit,train_y)\n",
        "accuracyKNN = knn.score(fitTest, test_y)\n",
        "print(\"Accuracy:\",accuracyKNN)"
      ],
      "execution_count": null,
      "outputs": [
        {
          "output_type": "stream",
          "text": [
            "Accuracy: 0.6741\n"
          ],
          "name": "stdout"
        }
      ]
    },
    {
      "cell_type": "code",
      "metadata": {
        "colab_type": "code",
        "id": "iuTuY2os7iQB",
        "colab": {
          "base_uri": "https://localhost:8080/",
          "height": 85
        },
        "outputId": "ebb58aba-9f0b-4aa1-9bb6-38282338ba3e"
      },
      "source": [
        "# Comparison of models\n",
        "print(\"The most successful model is Logistic Regression model. It's accuracy is                             : \", accuracyLR)\n",
        "print(\"The second successful model is Neural Network model with a pretty small difference. It's accuracy is : \", score[1])\n",
        "print(\"The third successful model is Gaussian Naive Bayes model. It's accuracy is                           : \", accuracyNB)\n",
        "print(\"The model that has the worst accuracy is KNN. It's accuracy is                                       :  0.6741\")"
      ],
      "execution_count": 46,
      "outputs": [
        {
          "output_type": "stream",
          "text": [
            "The most successful model is Logistic Regression model. It's accuracy is                             :  0.8835\n",
            "The second successful model is Neural Network model with a pretty small difference. It's accuracy is :  0.8822000026702881\n",
            "The third successful model is Gaussian Naive Bayes model. It's accuracy is                           :  0.7225\n",
            "The model that has the worst accuracy is KNN. It's accuracy is                                       :  0.6741\n"
          ],
          "name": "stdout"
        }
      ]
    }
  ]
}